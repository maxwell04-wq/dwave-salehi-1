{
 "cells": [
  {
   "cell_type": "markdown",
   "id": "f38dd7dc",
   "metadata": {},
   "source": [
    "<table width = \"100%\">\n",
    "  <tr style=\"background-color:white;\">\n",
    "    <!-- QWorld Logo -->\n",
    "    <td style=\"text-align:left;width:200px;\"> \n",
    "        <a href=\"https://qworld.net/\" target=\"_blank\"><img src=\"../images/QWorld.png\"> </a></td>\n",
    "    <td style=\"text-align:right;vertical-align:bottom;font-size:16px;\"> \n",
    "        Prepared by <a href=\"https://gitlab.com/AkashNarayanan\" target=\"_blank\"> AkashNarayanan B</a></td>    \n",
    "</table>\n",
    "<hr>"
   ]
  },
  {
   "cell_type": "markdown",
   "id": "d1a0f4c2",
   "metadata": {},
   "source": [
    "# Imports"
   ]
  },
  {
   "cell_type": "code",
   "execution_count": 1,
   "id": "4d7a7b59",
   "metadata": {},
   "outputs": [],
   "source": [
    "import numpy as np\n",
    "import dimod"
   ]
  },
  {
   "cell_type": "markdown",
   "id": "b582ec09",
   "metadata": {},
   "source": [
    "# Task 1\n",
    "\n",
    "Create a QUBO in NumPy matrix form for the following objective function and create a BQM from it.\n",
    "\n",
    "$$f(x_1, x_2, x_3, x_4) = 3x_1 - 7x_2 + 11x_3 - x_4 + 9x_1 x_2 + x_1 x_3 + 2x_2 x_3 + 8x_3 x_4$$"
   ]
  },
  {
   "cell_type": "markdown",
   "id": "4c153550",
   "metadata": {},
   "source": [
    "## Solution\n",
    "\n",
    "Define a NumPy matrix `Q` for the objective function."
   ]
  },
  {
   "cell_type": "code",
   "execution_count": 4,
   "id": "03543548",
   "metadata": {},
   "outputs": [],
   "source": [
    "Q_np = np.array([[  3,  9,  1,  0],\n",
    "              [  0, -7,  2,  0],\n",
    "              [  0,  0, 11,  8],\n",
    "              [  0,  0,  0, -1]])"
   ]
  },
  {
   "cell_type": "markdown",
   "id": "edf621b2",
   "metadata": {},
   "source": [
    "Construct a BQM from the above NumPy matrix."
   ]
  },
  {
   "cell_type": "code",
   "execution_count": 7,
   "id": "6120d552",
   "metadata": {},
   "outputs": [
    {
     "name": "stdout",
     "output_type": "stream",
     "text": [
      "BinaryQuadraticModel({0: 3.0, 1: -7.0, 2: 11.0, 3: -1.0}, {(1, 0): 9.0, (2, 0): 1.0, (2, 1): 2.0, (3, 2): 8.0}, 0.0, 'BINARY')\n"
     ]
    },
    {
     "name": "stderr",
     "output_type": "stream",
     "text": [
      "/tmp/ipykernel_23220/4093300383.py:1: DeprecationWarning: BQM.from_numpy_matrix(M) is deprecated since dimod 0.10.0, use BQM(M, \"BINARY\") instead.\n",
      "  bqm_qubo_np = dimod.BinaryQuadraticModel.from_numpy_matrix(Q_np)\n"
     ]
    }
   ],
   "source": [
    "bqm_qubo_np = dimod.BinaryQuadraticModel.from_numpy_matrix(Q_np)\n",
    "\n",
    "print(bqm_qubo_np)"
   ]
  },
  {
   "cell_type": "markdown",
   "id": "b4a07b56",
   "metadata": {},
   "source": [
    "# Task 2\n",
    "\n",
    "Create a QUBO in dictionary form for the following objective function and create a BQM from it.\n",
    "\n",
    "$$f(x_1, x_2, x_3, x_4) = 3x_1 - 7x_2 + 11x_3 - x_4 + 9x_1 x_2 + x_1 x_3 + 2x_2 x_3 + 8x_3 x_4$$"
   ]
  },
  {
   "cell_type": "markdown",
   "id": "e730dcc1",
   "metadata": {},
   "source": [
    "## Solution\n",
    "\n",
    "Define a QUBO in dictionary form for the given objective function."
   ]
  },
  {
   "cell_type": "code",
   "execution_count": 6,
   "id": "9b6d8848",
   "metadata": {},
   "outputs": [],
   "source": [
    "Q_dict = {\n",
    "    (\"x1\", \"x1\"): 3,\n",
    "    (\"x2\", \"x2\"): -7,\n",
    "    (\"x3\", \"x3\"): 11,\n",
    "    (\"x4\", \"x4\"): -1,\n",
    "    (\"x1\", \"x2\"): 9,\n",
    "    (\"x1\", \"x3\"): 1,\n",
    "    (\"x2\", \"x3\"): 2,\n",
    "    (\"x3\", \"x4\"): 8,\n",
    "}"
   ]
  },
  {
   "cell_type": "markdown",
   "id": "a1a27d70",
   "metadata": {},
   "source": [
    "Construct a BQM from the above dictionary `Q_dict`."
   ]
  },
  {
   "cell_type": "code",
   "execution_count": 8,
   "id": "9df1f642",
   "metadata": {},
   "outputs": [
    {
     "name": "stdout",
     "output_type": "stream",
     "text": [
      "BinaryQuadraticModel({'x1': 3.0, 'x2': -7.0, 'x3': 11.0, 'x4': -1.0}, {('x2', 'x1'): 9.0, ('x3', 'x1'): 1.0, ('x3', 'x2'): 2.0, ('x4', 'x3'): 8.0}, 0.0, 'BINARY')\n"
     ]
    }
   ],
   "source": [
    "bqm_qubo_dict = dimod.BinaryQuadraticModel.from_qubo(Q_dict)\n",
    "\n",
    "print(bqm_qubo_dict)"
   ]
  }
 ],
 "metadata": {
  "kernelspec": {
   "display_name": "Python 3 (ipykernel)",
   "language": "python",
   "name": "python3"
  },
  "language_info": {
   "codemirror_mode": {
    "name": "ipython",
    "version": 3
   },
   "file_extension": ".py",
   "mimetype": "text/x-python",
   "name": "python",
   "nbconvert_exporter": "python",
   "pygments_lexer": "ipython3",
   "version": "3.8.8"
  }
 },
 "nbformat": 4,
 "nbformat_minor": 5
}
